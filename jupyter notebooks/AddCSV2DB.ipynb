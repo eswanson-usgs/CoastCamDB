{
 "cells": [
  {
   "cell_type": "code",
   "execution_count": null,
   "id": "6274d59d-301b-43e4-88f8-0cc203400e50",
   "metadata": {},
   "outputs": [],
   "source": [
    "##### IMPORTS #####\n",
    "from coastcamDBfuncs import *\n",
    "from coastcamDB_yaml_funcs import *"
   ]
  },
  {
   "cell_type": "code",
   "execution_count": null,
   "id": "e9e0b99f-7bb0-4469-a397-9fb01f4fcfcd",
   "metadata": {},
   "outputs": [],
   "source": [
    "#Need a csv file of parameters to connect to the database\n",
    "#file will have: host, port, dbname, user, password\n",
    "csv_file = \"/home/jovyan/CoastCamDB/db_access.csv\"\n",
    "conn = DBConnectCSV(csv_file)"
   ]
  },
  {
   "cell_type": "code",
   "execution_count": null,
   "id": "4d8aba98-b259-4d2e-b9c5-d6797ec9c868",
   "metadata": {},
   "outputs": [],
   "source": [
    "#Path of the file with data you'd like to add to the DB\n",
    "tableFile = \"/home/jovyan/CoastCamDB/gcp.csv\""
   ]
  },
  {
   "cell_type": "code",
   "execution_count": null,
   "id": "1e8641d9-f11d-449e-8242-31bb6f377104",
   "metadata": {},
   "outputs": [],
   "source": [
    "#Call function to create YAML files. Provide stationID, filepath to save to, and connection object to database\n",
    "csv2db(tableFile, conn)"
   ]
  },
  {
   "cell_type": "code",
   "execution_count": null,
   "id": "bc62cc44-16bf-41db-9f6c-2cf611ce901b",
   "metadata": {},
   "outputs": [],
   "source": [
    "#checking that row was added to the table\n",
    "result = pd.read_sql(\"SELECT * FROM gcp\", con=conn)\n",
    "print(result)"
   ]
  }
 ],
 "metadata": {
  "kernelspec": {
   "display_name": "Python 3 (ipykernel)",
   "language": "python",
   "name": "python3"
  },
  "language_info": {
   "codemirror_mode": {
    "name": "ipython",
    "version": 3
   },
   "file_extension": ".py",
   "mimetype": "text/x-python",
   "name": "python",
   "nbconvert_exporter": "python",
   "pygments_lexer": "ipython3",
   "version": "3.9.13"
  }
 },
 "nbformat": 4,
 "nbformat_minor": 5
}
