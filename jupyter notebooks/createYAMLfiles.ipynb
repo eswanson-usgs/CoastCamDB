{
 "cells": [
  {
   "cell_type": "code",
   "execution_count": null,
   "id": "6274d59d-301b-43e4-88f8-0cc203400e50",
   "metadata": {},
   "outputs": [],
   "source": [
    "##### IMPORTS #####\n",
    "from coastcamDBfuncs import *\n",
    "from coastcamDBYAMLfuncs import *"
   ]
  },
  {
   "cell_type": "code",
   "execution_count": null,
   "id": "4d8aba98-b259-4d2e-b9c5-d6797ec9c868",
   "metadata": {},
   "outputs": [],
   "source": [
    "#Path where you'd like to save YAML files\n",
    "filepath = \"/home/jovyan/CoastCamDB/YAML_files/\"\n",
    "#stationID corresponding to the station you'd like to obtain parameters for\n",
    "stationID = '7654321'"
   ]
  },
  {
   "cell_type": "code",
   "execution_count": null,
   "id": "e9e0b99f-7bb0-4469-a397-9fb01f4fcfcd",
   "metadata": {},
   "outputs": [],
   "source": [
    "#Need a csv file of parameters to connect to the database\n",
    "#file will have: host, port, dbname, user, password\n",
    "csvFile = \"/home/jovyan/CoastCamDB/db_access.csv\"\n",
    "conn = DBConnectCSV(csvFile)\n",
    "print(conn)"
   ]
  },
  {
   "cell_type": "code",
   "execution_count": null,
   "id": "1e8641d9-f11d-449e-8242-31bb6f377104",
   "metadata": {},
   "outputs": [],
   "source": [
    "#Call function to create YAML files. Provide stationID, filepath to save to, and connection object to database\n",
    "createYAMLfiles(stationID, filepath, conn)"
   ]
  }
 ],
 "metadata": {
  "kernelspec": {
   "display_name": "Python 3 (ipykernel)",
   "language": "python",
   "name": "python3"
  },
  "language_info": {
   "codemirror_mode": {
    "name": "ipython",
    "version": 3
   },
   "file_extension": ".py",
   "mimetype": "text/x-python",
   "name": "python",
   "nbconvert_exporter": "python",
   "pygments_lexer": "ipython3",
   "version": "3.9.13"
  }
 },
 "nbformat": 4,
 "nbformat_minor": 5
}
