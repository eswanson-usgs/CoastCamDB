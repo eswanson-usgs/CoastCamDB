{
 "cells": [
  {
   "cell_type": "code",
   "execution_count": null,
   "id": "6b1e8297-7e3b-4511-9390-7aaa5c9fb628",
   "metadata": {},
   "outputs": [],
   "source": [
    "##### IMPORTS #####\n",
    "from coastcamDBfuncs import *\n",
    "from coastcamDB_yaml_funcs import *"
   ]
  },
  {
   "cell_type": "code",
   "execution_count": null,
   "id": "57260974-5fec-4891-bf9c-eb518ffc61c9",
   "metadata": {},
   "outputs": [],
   "source": [
    "#table name \n",
    "table = 'station'\n",
    "#folder to save csv to\n",
    "path = '/home/jovyan/CoastCamDB/csv/'"
   ]
  },
  {
   "cell_type": "code",
   "execution_count": null,
   "id": "5b549d22-e254-4130-91d2-4edd52422ee1",
   "metadata": {},
   "outputs": [],
   "source": [
    "#Need a csv file of parameters to connect to the database\n",
    "#file will have: host, port, dbname, user, password\n",
    "csv_file = \"/home/jovyan/CoastCamDB/db_access.csv\"\n",
    "conn = DBConnectCSV(csv_file)"
   ]
  },
  {
   "cell_type": "code",
   "execution_count": null,
   "id": "64ed28d4-9ec8-4f6c-9ad7-46c50dc99db9",
   "metadata": {},
   "outputs": [],
   "source": [
    "#save csv. function returns Pandas dataframe of the SQL query\n",
    "result = table2csv(table, path, conn)\n",
    "print(result)"
   ]
  }
 ],
 "metadata": {
  "kernelspec": {
   "display_name": "Python 3 (ipykernel)",
   "language": "python",
   "name": "python3"
  },
  "language_info": {
   "codemirror_mode": {
    "name": "ipython",
    "version": 3
   },
   "file_extension": ".py",
   "mimetype": "text/x-python",
   "name": "python",
   "nbconvert_exporter": "python",
   "pygments_lexer": "ipython3",
   "version": "3.9.13"
  }
 },
 "nbformat": 4,
 "nbformat_minor": 5
}
