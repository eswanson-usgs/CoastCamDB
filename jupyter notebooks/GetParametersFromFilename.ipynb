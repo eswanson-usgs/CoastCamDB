{
 "cells": [
  {
   "cell_type": "code",
   "execution_count": null,
   "id": "7b7e3ac8-5496-4eb8-bb9a-d10ae2c0e7b3",
   "metadata": {},
   "outputs": [],
   "source": [
    "### IMPORT ###\n",
    "from coastcamDBfuncs import *\n",
    "from coastcamDBYAMLfuncs import *"
   ]
  },
  {
   "cell_type": "code",
   "execution_count": null,
   "id": "1e751e88-4601-43b0-a9d7-9d9358241f4a",
   "metadata": {},
   "outputs": [],
   "source": [
    "#file should be in the same folder as notebook\n",
    "filename = '1660734000.Wed.Aug.17_11_0_0.GMT.2022.examplexx.c1.snap.jpg' \n",
    "#local time of the station where the image was taken. eastern, pacific, or utc\n",
    "timezone = 'eastern' "
   ]
  },
  {
   "cell_type": "code",
   "execution_count": null,
   "id": "937a49bf-9b25-4f3c-86ce-f3548aa777d5",
   "metadata": {},
   "outputs": [],
   "source": [
    "#Need a csv file of parameters to connect to the database\n",
    "#file will have: host, port, dbname, user, password\n",
    "csvFile = \"/home/jovyan/CoastCamDB/db_access.csv\"\n",
    "conn = DBConnectCSV(csvFile)"
   ]
  },
  {
   "cell_type": "code",
   "execution_count": null,
   "id": "867f3c72-d4d0-4717-bbb7-ade8da7f416c",
   "metadata": {},
   "outputs": [],
   "source": [
    "#filename2param() returns Parameter object (see coastcamDBfuncs)\n",
    "parameters = filename2param(filename, conn, timezone)"
   ]
  },
  {
   "cell_type": "code",
   "execution_count": null,
   "id": "0565f1d9-129b-4fb3-bba6-cd666d4fdf34",
   "metadata": {},
   "outputs": [],
   "source": [
    "#print attributes of Parameter object\n",
    "print(parameters.extrinsics)\n",
    "print(parameters.intrinsics)\n",
    "print(parameters.metadata)\n",
    "print(parameters.localOrigin)\n",
    "print(parameters.dateTimeObj)\n",
    "print(parameters.dateTimeStr)\n",
    "print(parameters.tzone)"
   ]
  }
 ],
 "metadata": {
  "kernelspec": {
   "display_name": "Python 3 (ipykernel)",
   "language": "python",
   "name": "python3"
  },
  "language_info": {
   "codemirror_mode": {
    "name": "ipython",
    "version": 3
   },
   "file_extension": ".py",
   "mimetype": "text/x-python",
   "name": "python",
   "nbconvert_exporter": "python",
   "pygments_lexer": "ipython3",
   "version": "3.9.13"
  }
 },
 "nbformat": 4,
 "nbformat_minor": 5
}
